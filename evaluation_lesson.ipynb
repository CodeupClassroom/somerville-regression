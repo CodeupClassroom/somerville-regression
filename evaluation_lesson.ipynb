{
 "cells": [
  {
   "cell_type": "code",
   "execution_count": 1,
   "id": "d616dce8",
   "metadata": {},
   "outputs": [
    {
     "data": {
      "application/javascript": [
       "IPython.notebook.set_autosave_interval(0)"
      ]
     },
     "metadata": {},
     "output_type": "display_data"
    },
    {
     "name": "stdout",
     "output_type": "stream",
     "text": [
      "Autosave disabled\n"
     ]
    }
   ],
   "source": [
    "%autosave 0"
   ]
  },
  {
   "cell_type": "code",
   "execution_count": 2,
   "id": "943786de",
   "metadata": {},
   "outputs": [],
   "source": [
    "import pandas as pd\n",
    "import numpy as np\n",
    "\n",
    "import matplotlib.pyplot as plt\n",
    "import seaborn as sns\n",
    "\n",
    "from adam_wrangle import train_val_test\n",
    "from scipy import stats\n",
    "from sklearn.metrics import mean_squared_error, r2_score, explained_variance_score\n",
    "from sklearn.linear_model import LinearRegression\n",
    "from math import sqrt"
   ]
  },
  {
   "cell_type": "markdown",
   "id": "c3591c83",
   "metadata": {},
   "source": [
    "Let's read in the diamonds csv from the explore lesson."
   ]
  },
  {
   "cell_type": "code",
   "execution_count": 3,
   "id": "4709ee46",
   "metadata": {},
   "outputs": [
    {
     "data": {
      "text/html": [
       "<div>\n",
       "<style scoped>\n",
       "    .dataframe tbody tr th:only-of-type {\n",
       "        vertical-align: middle;\n",
       "    }\n",
       "\n",
       "    .dataframe tbody tr th {\n",
       "        vertical-align: top;\n",
       "    }\n",
       "\n",
       "    .dataframe thead th {\n",
       "        text-align: right;\n",
       "    }\n",
       "</style>\n",
       "<table border=\"1\" class=\"dataframe\">\n",
       "  <thead>\n",
       "    <tr style=\"text-align: right;\">\n",
       "      <th></th>\n",
       "      <th>carat</th>\n",
       "      <th>cut</th>\n",
       "      <th>color</th>\n",
       "      <th>clarity</th>\n",
       "      <th>depth</th>\n",
       "      <th>table</th>\n",
       "      <th>price</th>\n",
       "      <th>x</th>\n",
       "      <th>y</th>\n",
       "      <th>z</th>\n",
       "    </tr>\n",
       "  </thead>\n",
       "  <tbody>\n",
       "    <tr>\n",
       "      <th>1</th>\n",
       "      <td>0.23</td>\n",
       "      <td>Ideal</td>\n",
       "      <td>E</td>\n",
       "      <td>SI2</td>\n",
       "      <td>61.5</td>\n",
       "      <td>55.0</td>\n",
       "      <td>326</td>\n",
       "      <td>3.95</td>\n",
       "      <td>3.98</td>\n",
       "      <td>2.43</td>\n",
       "    </tr>\n",
       "    <tr>\n",
       "      <th>2</th>\n",
       "      <td>0.21</td>\n",
       "      <td>Premium</td>\n",
       "      <td>E</td>\n",
       "      <td>SI1</td>\n",
       "      <td>59.8</td>\n",
       "      <td>61.0</td>\n",
       "      <td>326</td>\n",
       "      <td>3.89</td>\n",
       "      <td>3.84</td>\n",
       "      <td>2.31</td>\n",
       "    </tr>\n",
       "    <tr>\n",
       "      <th>3</th>\n",
       "      <td>0.23</td>\n",
       "      <td>Good</td>\n",
       "      <td>E</td>\n",
       "      <td>VS1</td>\n",
       "      <td>56.9</td>\n",
       "      <td>65.0</td>\n",
       "      <td>327</td>\n",
       "      <td>4.05</td>\n",
       "      <td>4.07</td>\n",
       "      <td>2.31</td>\n",
       "    </tr>\n",
       "    <tr>\n",
       "      <th>4</th>\n",
       "      <td>0.29</td>\n",
       "      <td>Premium</td>\n",
       "      <td>I</td>\n",
       "      <td>VS2</td>\n",
       "      <td>62.4</td>\n",
       "      <td>58.0</td>\n",
       "      <td>334</td>\n",
       "      <td>4.20</td>\n",
       "      <td>4.23</td>\n",
       "      <td>2.63</td>\n",
       "    </tr>\n",
       "    <tr>\n",
       "      <th>5</th>\n",
       "      <td>0.31</td>\n",
       "      <td>Good</td>\n",
       "      <td>J</td>\n",
       "      <td>SI2</td>\n",
       "      <td>63.3</td>\n",
       "      <td>58.0</td>\n",
       "      <td>335</td>\n",
       "      <td>4.34</td>\n",
       "      <td>4.35</td>\n",
       "      <td>2.75</td>\n",
       "    </tr>\n",
       "  </tbody>\n",
       "</table>\n",
       "</div>"
      ],
      "text/plain": [
       "   carat      cut color clarity  depth  table  price     x     y     z\n",
       "1   0.23    Ideal     E     SI2   61.5   55.0    326  3.95  3.98  2.43\n",
       "2   0.21  Premium     E     SI1   59.8   61.0    326  3.89  3.84  2.31\n",
       "3   0.23     Good     E     VS1   56.9   65.0    327  4.05  4.07  2.31\n",
       "4   0.29  Premium     I     VS2   62.4   58.0    334  4.20  4.23  2.63\n",
       "5   0.31     Good     J     SI2   63.3   58.0    335  4.34  4.35  2.75"
      ]
     },
     "execution_count": 3,
     "metadata": {},
     "output_type": "execute_result"
    }
   ],
   "source": [
    "df = pd.read_csv('diamonds.csv', index_col=0)\n",
    "df.head()"
   ]
  },
  {
   "cell_type": "markdown",
   "id": "00ccfb07",
   "metadata": {},
   "source": [
    "We have to split our data before we can fit a model to our data and generate some predictions."
   ]
  },
  {
   "cell_type": "code",
   "execution_count": 4,
   "id": "f5626adb",
   "metadata": {},
   "outputs": [
    {
     "data": {
      "text/plain": [
       "((37758, 10), (8091, 10), (8091, 10))"
      ]
     },
     "execution_count": 4,
     "metadata": {},
     "output_type": "execute_result"
    }
   ],
   "source": [
    "train, val, test = train_val_test(df)\n",
    "train.shape, val.shape, test.shape"
   ]
  },
  {
   "cell_type": "markdown",
   "id": "2c278214",
   "metadata": {},
   "source": [
    "Let's make X and y train series. Let's use carat, since we found it to have a strong positive correlation with our target variable (price) during the explore phase."
   ]
  },
  {
   "cell_type": "code",
   "execution_count": 5,
   "id": "ad1b814d",
   "metadata": {},
   "outputs": [],
   "source": [
    "X_train = train[['carat']]\n",
    "y_train = train.price\n",
    "\n",
    "X_val = val[['carat']]\n",
    "y_val = val.price"
   ]
  },
  {
   "cell_type": "markdown",
   "id": "69e78554",
   "metadata": {},
   "source": [
    "Let's define a baseline. We will go through the manual calculations using our baseline. At the end, we will create a basic linear regression model and evaluate it using the imported functions.\n",
    "\n",
    "Since we have no way of knowing if the median or the mean performs better, we'll use the median."
   ]
  },
  {
   "cell_type": "code",
   "execution_count": 6,
   "id": "37b9d827",
   "metadata": {},
   "outputs": [
    {
     "data": {
      "text/plain": [
       "2404.0"
      ]
     },
     "execution_count": 6,
     "metadata": {},
     "output_type": "execute_result"
    }
   ],
   "source": [
    "y_train.median()"
   ]
  },
  {
   "cell_type": "markdown",
   "id": "ba76b9fc",
   "metadata": {},
   "source": [
    "Let's assign our baseline to a new column of y_train."
   ]
  },
  {
   "cell_type": "code",
   "execution_count": null,
   "id": "e248c740",
   "metadata": {},
   "outputs": [],
   "source": []
  },
  {
   "cell_type": "markdown",
   "id": "e83c6623",
   "metadata": {},
   "source": [
    "Let's calculate the residuals, which are the predicted values minus the actual ones."
   ]
  },
  {
   "cell_type": "code",
   "execution_count": null,
   "id": "9767c1cf",
   "metadata": {},
   "outputs": [],
   "source": []
  },
  {
   "cell_type": "markdown",
   "id": "7cd0e619",
   "metadata": {},
   "source": [
    "Now we can square the residuals, to eliminate the differences in the signs. This calculates the squared errors."
   ]
  },
  {
   "cell_type": "code",
   "execution_count": null,
   "id": "4c89f7d6",
   "metadata": {},
   "outputs": [],
   "source": []
  },
  {
   "cell_type": "markdown",
   "id": "f47ae328",
   "metadata": {},
   "source": [
    "We can add all the squared errors together, to calculate the sum of squared errors (SSE). This is the first acronym you encountered in the curriculum."
   ]
  },
  {
   "cell_type": "code",
   "execution_count": null,
   "id": "b98832ed",
   "metadata": {},
   "outputs": [],
   "source": []
  },
  {
   "cell_type": "markdown",
   "id": "002b3e04",
   "metadata": {},
   "source": [
    "The next step is to calculate the mean squared error (MSE). As the name implies, we calculate this value by getting the average of the squared error. We can divide the sum of squared errors (SSE) by the length of the dataframe to calculate this value."
   ]
  },
  {
   "cell_type": "code",
   "execution_count": null,
   "id": "eb052651",
   "metadata": {},
   "outputs": [],
   "source": []
  },
  {
   "cell_type": "markdown",
   "id": "a3e2fab1",
   "metadata": {},
   "source": [
    "Finally, as the name implies, we can calculate the root mean squared error (RMSE) by taking the square root of the mean squared error (MSE). This will return a value that represents the average error in our baseline's predictions in the original units."
   ]
  },
  {
   "cell_type": "code",
   "execution_count": null,
   "id": "67a51583",
   "metadata": {},
   "outputs": [],
   "source": []
  },
  {
   "cell_type": "markdown",
   "id": "5b2e3509",
   "metadata": {},
   "source": [
    "Now that we've done it the long way with the baseline, let's create a basic linear regression model and evaluate it with the help of the sklearn library."
   ]
  },
  {
   "cell_type": "code",
   "execution_count": null,
   "id": "e27e4a97",
   "metadata": {},
   "outputs": [],
   "source": []
  },
  {
   "cell_type": "markdown",
   "id": "1ba62399",
   "metadata": {},
   "source": [
    "Great! We were able to calculate the root mean squared error (RMSE) for our baseline and regression model. Which one performed better?"
   ]
  },
  {
   "cell_type": "code",
   "execution_count": null,
   "id": "32fd50ae",
   "metadata": {},
   "outputs": [],
   "source": []
  },
  {
   "cell_type": "markdown",
   "id": "4009b2ff",
   "metadata": {},
   "source": [
    "Now let's calculate the model significance. This can also be expressed as the R^2 value. The R^2 value equals the explained sum of squares divided by the total sum of squares. The equation with acronyms looks like this: R^2 = ESS / TSS.\n",
    "\n",
    "The first step is to calculated the explained sum of squares. This is calculated by taking each prediction, subtracting the mean of actual values, squaring it, and adding up all the results. It's very similar to how we calculated the sum of squared errors (SSE)."
   ]
  },
  {
   "cell_type": "code",
   "execution_count": null,
   "id": "6fd93a9b",
   "metadata": {},
   "outputs": [],
   "source": []
  },
  {
   "cell_type": "markdown",
   "id": "2aa8e4e9",
   "metadata": {},
   "source": [
    "Now that we have our explained sum of squares, we have the nominator for our equation. To calculate the denominator, the total sum of squares (TSS), we have to add the sum of squared error (SSE) to the explained sum of squares (ESS)."
   ]
  },
  {
   "cell_type": "code",
   "execution_count": null,
   "id": "216de4fc",
   "metadata": {},
   "outputs": [],
   "source": []
  },
  {
   "cell_type": "markdown",
   "id": "60830d13",
   "metadata": {},
   "source": [
    "We have both elements ready! We divide the ESS by the TSS to find the model significance for our baseline."
   ]
  },
  {
   "cell_type": "code",
   "execution_count": null,
   "id": "18e3bc57",
   "metadata": {},
   "outputs": [],
   "source": []
  },
  {
   "cell_type": "markdown",
   "id": "88b6032a",
   "metadata": {},
   "source": [
    "After doing it the long way, let's calculate model significance for our linear regression model using the sklearn library."
   ]
  },
  {
   "cell_type": "code",
   "execution_count": null,
   "id": "9abef4bf",
   "metadata": {},
   "outputs": [],
   "source": []
  }
 ],
 "metadata": {
  "kernelspec": {
   "display_name": "Python 3 (ipykernel)",
   "language": "python",
   "name": "python3"
  },
  "language_info": {
   "codemirror_mode": {
    "name": "ipython",
    "version": 3
   },
   "file_extension": ".py",
   "mimetype": "text/x-python",
   "name": "python",
   "nbconvert_exporter": "python",
   "pygments_lexer": "ipython3",
   "version": "3.9.17"
  }
 },
 "nbformat": 4,
 "nbformat_minor": 5
}
